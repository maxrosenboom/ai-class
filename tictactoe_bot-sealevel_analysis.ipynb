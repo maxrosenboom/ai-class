{
 "cells": [
  {
   "cell_type": "markdown",
   "metadata": {
    "tags": []
   },
   "source": [
    "---\n",
    "\n",
    "# CSCI 3202, Spring 2022\n",
    "# Homework 3\n",
    "\n",
    "<br> \n",
    "\n",
    "### Your name: Max Rosenboom\n",
    "\n",
    "<br> "
   ]
  },
  {
   "cell_type": "markdown",
   "metadata": {},
   "source": [
    "---\n",
    "\n",
    "Some useful packages and libraries:\n",
    "\n"
   ]
  },
  {
   "cell_type": "code",
   "execution_count": 1,
   "metadata": {},
   "outputs": [],
   "source": [
    "import numpy as np\n",
    "import pandas as pd\n",
    "import matplotlib.pyplot as plt\n",
    "from matplotlib import colors\n",
    "from collections import deque\n",
    "import heapq\n",
    "import unittest\n",
    "from scipy import stats\n",
    "import copy as cp\n",
    "from time import time"
   ]
  },
  {
   "cell_type": "markdown",
   "metadata": {},
   "source": [
    "---\n",
    "\n",
    "## Problem 1: Game Theory - Playing \"intelligent\" Tic-Tac-Toe"
   ]
  },
  {
   "cell_type": "markdown",
   "metadata": {},
   "source": [
    "<img src=\"https://www.cookieshq.co.uk/images/2016/06/01/tic-tac-toe.png\" width=\"150\"/>\n",
    "\n",
    "\n",
    "\n",
    "### (1a)   Defining the Tic-Tac-Toe class structure\n",
    "\n",
    "Fill in this class structure for Tic-Tac-Toe using what we did during class as a guide.\n",
    "* `moves` is a list of tuples to represent which moves are available. Recall that we are using matrix notation for this, where the upper-left corner of the board, for example, is represented at (1,1).\n",
    "* `result(self, move, state)` returns a ***hypothetical*** resulting `State` object if `move` is made when the game is in the current `state`\n",
    "* `compute_utility(self, move, state)` calculates the utility of `state` that would result if `move` is made when the game is in the current `state`. This is where you want to check to see if anyone has gotten `nwin` in a row\n",
    "* `game_over(self, state)` - this wasn't a method, but it should be - it's a piece of code we need to execute repeatedly and giving it a name makes clear what task the piece of code performs. Returns `True` if the game in the given `state` has reached a terminal state, and `False` otherwise.\n",
    "* `utility(self, state, player)` also wasn't a method earlier, but also should be.  Returns the utility of the current state if the player is X and $-1 \\cdot$ utility if the player is O.\n",
    "* `display(self)` is a method to display the current game `state`, You get it for free! because this would be super frustrating without it.\n",
    "* `play_game(self, player1, player2)` returns an integer that is the utility of the outcome of the game (+1 if X wins, 0 if draw, -1 if O wins). `player1` and `player2` are functional arguments that we will deal with in parts **1b** and **1d**.\n",
    "\n",
    "Some notes:\n",
    "* Assume X always goes first.\n",
    "* Do **not** hard-code for 3x3 boards.\n",
    "* You may add attributes and methods to these classes as needed for this problem."
   ]
  },
  {
   "cell_type": "code",
   "execution_count": 2,
   "metadata": {},
   "outputs": [],
   "source": [
    "class State:\n",
    "    def __init__(self, moves):\n",
    "        self.to_move = 'X'\n",
    "        self.utility = 0\n",
    "        self.board = {}\n",
    "        self.moves = cp.copy(moves)\n",
    "\n",
    "        \n",
    "class TicTacToe:\n",
    "    \n",
    "    def __init__(self, nrow=3, ncol=3, nwin=3, nexp=0):\n",
    "        self.nrow = nrow\n",
    "        self.ncol = ncol\n",
    "        self.nwin = nwin\n",
    "#        moves = # insert your general list of nrow x ncol moves here\n",
    "        moves = [(row, col) for row in range(1, nrow + 1) for col in range(1, ncol + 1)]\n",
    "        self.state = State(moves)\n",
    "        self.nexp = nexp\n",
    "        self.expanded_states = 0\n",
    "\n",
    "    def result(self, move, state):\n",
    "        '''\n",
    "        What is the hypothetical result of move `move` in state `state` ?\n",
    "        move  = (row, col) tuple where player will put their mark (X or O)\n",
    "        state = a `State` object, to represent whose turn it is and form\n",
    "                the basis for generating a **hypothetical** updated state\n",
    "                that will result from making the given `move`\n",
    "        '''\n",
    "\n",
    "        # your code goes here\n",
    "        if move not in state.moves:\n",
    "            return state\n",
    "    \n",
    "        copied = cp.deepcopy(state)\n",
    "        copied.moves.remove(move)\n",
    "        copied.utility = self.compute_utility(move, state)\n",
    "        copied.board[move] = state.to_move\n",
    "        \n",
    "        if (state.to_move == 'X'):\n",
    "            copied.to_move = 'O'\n",
    "        else:\n",
    "            copied.to_move = 'X'\n",
    "            \n",
    "        return copied\n",
    "        \n",
    "    def compute_utility(self, move, state):\n",
    "        '''\n",
    "        What is the utility of making move `move` in state `state`?\n",
    "        If 'X' wins with this move, return 1;\n",
    "        if 'O' wins return -1;\n",
    "        else return 0.\n",
    "        '''        \n",
    "\n",
    "        # your code goes here\n",
    "        row, col = move\n",
    "        board = cp.deepcopy(state.board)\n",
    "        board[move] = state.to_move\n",
    "        \n",
    "        num_row = 0\n",
    "        for i in range(1, self.ncol + 1): #winning with 3 left to right\n",
    "            if (board.get((row, i)) == state.to_move):\n",
    "                num_row += 1\n",
    "                \n",
    "        num_col = 0\n",
    "        for i in range(1, self.nrow + 1): #winning with 3 up to down\n",
    "            if (board.get((i, col)) == state.to_move):\n",
    "                num_col += 1\n",
    "                \n",
    "        num_left_diag = 0\n",
    "        for i in range(row, 0, -1): #winning with 3 top left to bottom right\n",
    "            if (board.get((i, col - (row - i))) == state.to_move):\n",
    "                num_left_diag += 1\n",
    "        for i in range(row + 1, self.nrow + 1):\n",
    "            if (board.get((i, col - (row - i))) == state.to_move):\n",
    "                num_left_diag += 1\n",
    "                \n",
    "        num_right_diag = 0\n",
    "        for i in range(row, 0, -1): #winning with 3 top right to bottom left\n",
    "            if (board.get((i, col + (row - i))) == state.to_move):\n",
    "                num_right_diag += 1\n",
    "        for i in range(row + 1, self.nrow + 1):\n",
    "            if (board.get((i, col + (row - i))) == state.to_move):\n",
    "                num_right_diag += 1\n",
    "                \n",
    "        if (self.nwin in [num_row, num_col, num_left_diag, num_right_diag]):\n",
    "            if (state.to_move == 'X'):\n",
    "                return 1\n",
    "            else:\n",
    "                return -1\n",
    "        else:\n",
    "            return 0\n",
    "        \n",
    "\n",
    "    def game_over(self, state):\n",
    "        '''game is over if someone has won (utility!=0) or there\n",
    "        are no more moves left'''\n",
    "\n",
    "        # your code goes here\n",
    "        if ((state.utility != 0) or (len(state.moves) == 0)):\n",
    "            return True\n",
    "        else:\n",
    "            return False\n",
    "    \n",
    "    def utility(self, state, player):\n",
    "        '''Return the value to player; 1 for win, -1 for loss, 0 otherwise.'''\n",
    "\n",
    "        # your code goes here\n",
    "        #print(state.utility)\n",
    "        if (player == 'X'):\n",
    "            return state.utility\n",
    "        else:\n",
    "            return -state.utility\n",
    "        \n",
    "        \n",
    "    def display(self):\n",
    "        for row in range(1, self.nrow+1):\n",
    "            for col in range(1, self.ncol+1):\n",
    "                print(self.state.board.get((row, col), '.'), end=' ')\n",
    "            print()\n",
    "        \n",
    "    def play_game(self, player1, player2):\n",
    "        '''Play a game of tic-tac-toe!'''\n",
    "\n",
    "        # your code goes here\n",
    "        turns = self.nrow * self.ncol\n",
    "        for i in range(0, turns):\n",
    "            for player in [player1, player2]:\n",
    "                self.state = self.result(player(self), self.state)\n",
    "                if (self.game_over(self.state)):\n",
    "                    return self.state.utility\n",
    "  "
   ]
  },
  {
   "cell_type": "markdown",
   "metadata": {},
   "source": [
    "### (1b) Define a random player\n",
    "\n",
    "Define a function `random_player` that takes a single argument of the `TicTacToe` class and returns a random move out of the available legal moves in the `state` of the `TicTacToe` game.\n",
    "\n",
    "In your code for the `play_game` method above, make sure that `random_player` could be a viable input for the `player1` and/or `player2` arguments."
   ]
  },
  {
   "cell_type": "code",
   "execution_count": 3,
   "metadata": {},
   "outputs": [],
   "source": [
    "def random_player(game):\n",
    "    '''A player that chooses a legal move at random out of all\n",
    "    available legal moves in Tic-Tac-Toe state argument'''\n",
    "\n",
    "    # your code goes here...\n",
    "    return game.state.moves[np.random.randint(low=0, high=len(game.state.moves))]"
   ]
  },
  {
   "cell_type": "markdown",
   "metadata": {},
   "source": [
    "We know from experience and/or because I'm telling you right now that if two `random_player`s play many games of Tic-Tac-Toe against one another, whoever goes first will win about 58% of the time.  Verify that this is the case by playing at least 1,000 games between two random players. Report the proportion of the games that the first player has won.\n",
    "\n",
    "**\"Unit tests\":** If you are wondering how close is close enough to 58%, I simulated 100 tournaments of 1,000 games each. The min-max range of win percentage by the first player was 54-63%."
   ]
  },
  {
   "cell_type": "code",
   "execution_count": 4,
   "metadata": {},
   "outputs": [
    {
     "name": "stdout",
     "output_type": "stream",
     "text": [
      "Player 1 won 55.60000000000001% of games.\n",
      "There was a draw 13.100000000000001% of games.\n"
     ]
    }
   ],
   "source": [
    "# 1000 games between two random players\n",
    "# Your code here\n",
    "results = []\n",
    "for i in range(1000):\n",
    "    results.append(TicTacToe(3,3,3).play_game(random_player, random_player))\n",
    "\n",
    "percent_win = results.count(1) / len(results)\n",
    "percent_draw = results.count(0) / len(results)\n",
    "print(\"Player 1 won \" + str(percent_win * 100) + \"% of games.\")\n",
    "print(\"There was a draw \" + str(percent_draw * 100) + \"% of games.\")"
   ]
  },
  {
   "cell_type": "markdown",
   "metadata": {},
   "source": [
    "### (1c) What about playing randomly on different-sized boards?\n",
    "\n",
    "What does the long-term win percentage appear to be for the first player in a 4x4 Tic-Tac-Toe tournament, where 4 marks must be connected for a win?  Support your answer using a simulation and printed output, similar to **1b**.\n",
    "\n",
    "**Also:** The win percentage should have changed substantially. Did the decrease in wins turn into more losses for the first player or more draws? Write a few sentences explaining the behavior you observed.  *Hint: think about how the size of the state space has changed.*"
   ]
  },
  {
   "cell_type": "code",
   "execution_count": 5,
   "metadata": {},
   "outputs": [
    {
     "name": "stdout",
     "output_type": "stream",
     "text": [
      "Player 1 won 30.2% of games.\n",
      "There was a draw 44.1% of games.\n"
     ]
    }
   ],
   "source": [
    "# 1000 games between two random players\n",
    "# Your code here\n",
    "results = []\n",
    "for i in range(1000):\n",
    "    results.append(TicTacToe(4,4,4).play_game(random_player, random_player))\n",
    "\n",
    "percent_win = results.count(1) / len(results)\n",
    "percent_draw = results.count(0) / len(results)\n",
    "print(\"Player 1 won \" + str(percent_win * 100) + \"% of games.\")\n",
    "print(\"There was a draw \" + str(percent_draw * 100) + \"% of games.\")"
   ]
  },
  {
   "cell_type": "markdown",
   "metadata": {},
   "source": [
    "**Answer:** I noticed that the win rate almost halved when playing with a 4x4 board. I also noticed that the decrease in wins turned into more draws, with the draw percentage tripling from part B. This makes sense since our state space has grown, and since each spot that each player chooses is chosen at random, there's a lower chance that either player's random choices will be 4 in a row compared to 3 in a row for the 3x3 board, resulting in lower wins for either player and a higher draw chance."
   ]
  },
  {
   "cell_type": "markdown",
   "metadata": {},
   "source": [
    "### (1d) Define an alpha-beta player\n",
    "\n",
    "Alright. Let's finally get serious about our Tic-Tac-Toe game.  No more fooling around!\n",
    "\n",
    "Craft a function called `alphabeta_player` that takes a single argument of a `TicTacToe` class object and returns the minimax move in the `state` of the `TicTacToe` game. As the name implies, this player should be implementing alpha-beta pruning as described in the textbook and lecture.\n",
    "\n",
    "Note that your alpha-beta search for the minimax move should include function definitions for `max_value` and `min_value` (see the aggressively realistic pseudocode from the lecture slides).\n",
    "\n",
    "In your code for the `play_game` method above, make sure that `alphabeta_player` could be a viable input for the `player1` and/or `player2` arguments."
   ]
  },
  {
   "cell_type": "code",
   "execution_count": 9,
   "metadata": {},
   "outputs": [],
   "source": [
    "def alphabeta_player(game):\n",
    "    return alphabeta_search(game)\n",
    "\n",
    "def alphabeta_search(game):\n",
    "    alpha = -np.inf\n",
    "    beta = +np.inf\n",
    "    \n",
    "    func = max_value if game.state.to_move == 'X' else min_value\n",
    "    value, best_move = func(game, game.state, alpha, beta)\n",
    "    \n",
    "    return best_move\n",
    "\n",
    "def max_value(game, state, alpha, beta):\n",
    "    if (game.game_over(state)):\n",
    "        return (state.utility, None)\n",
    "    \n",
    "    val = -np.inf\n",
    "    optimal = None\n",
    "    for move in state.moves:\n",
    "        game.expanded_states += 1\n",
    "        n = max(val, min_value(game, game.result(move, state), alpha, beta)[0])\n",
    "        if val != n:\n",
    "            val = n\n",
    "            optimal = move\n",
    "            \n",
    "#         if val >= beta:  #commented these out to find the non-pruning nodes expanded\n",
    "#             optimal = move\n",
    "#             return (val, optimal)\n",
    "        \n",
    "        alpha = max(val, alpha)\n",
    "    return (alpha, optimal)\n",
    "    \n",
    "def min_value(game, state, alpha, beta): \n",
    "    if (game.game_over(state)):\n",
    "        return (state.utility, None)\n",
    "    \n",
    "    val = +np.inf\n",
    "    optimal = None \n",
    "    for move in state.moves:\n",
    "        game.expanded_states += 1\n",
    "        n = min(val, max_value(game, game.result(move, state), alpha, beta)[0])\n",
    "        if val != n:\n",
    "            val = n\n",
    "            optimal = move\n",
    "            \n",
    "#         if val <= alpha: #commented these out to find the non-pruning nodes expanded\n",
    "#             optimal = move\n",
    "#             return(val, optimal)\n",
    "        \n",
    "        beta = min(val, beta)\n",
    "    return (beta, optimal)"
   ]
  },
  {
   "cell_type": "markdown",
   "metadata": {},
   "source": [
    "Verify that your alpha-beta player code is working appropriately through the following tests, using a standard 3x3 Tic-Tac-Toe board. Run **10 games for each test**, and track the number of wins, draws and losses. Report these results for each case.\n",
    "\n",
    "1. An alpha-beta player who plays first should never lose to a random player who plays second.\n",
    "2. Two alpha-beta players should always draw.\n",
    "\n",
    "**Nota bene:** Test your code with fewer games between the players to start, because the alpha-beta player will require substantially more compute time than the random player.  This is why I only ask for 10 games, which still might take a minute or two. You are welcome to run more than 10 tests if you'd like. "
   ]
  },
  {
   "cell_type": "code",
   "execution_count": 78,
   "metadata": {},
   "outputs": [
    {
     "name": "stdout",
     "output_type": "stream",
     "text": [
      "Alpha-Beta Player vs Random Player\n",
      "Alpha-Beta player won 100.0% of games.\n",
      "There was a draw 0.0% of games.\n",
      "Random player won 0.0% of games.\n",
      "Alpha-Beta Player vs Alpha-Beta Player\n",
      "First Alpha-Beta player won 0.0% of games.\n",
      "There was a draw 100.0% of games.\n",
      "Second Alpha-Beta player won 0.0% of games.\n"
     ]
    }
   ],
   "source": [
    "# Your code here\n",
    "results = []\n",
    "print(\"Alpha-Beta Player vs Random Player\")\n",
    "for i in range(10):\n",
    "    #print(str(0) + \"-\" + str(i))\n",
    "    results.append(TicTacToe(3,3,3).play_game(alphabeta_player, random_player))\n",
    "\n",
    "percent_win = results.count(1) / len(results)\n",
    "percent_draw = results.count(0) / len(results)\n",
    "percent_loss = results.count(-1) / len(results)\n",
    "print(\"Alpha-Beta player won \" + str(percent_win * 100) + \"% of games.\")\n",
    "print(\"There was a draw \" + str(percent_draw * 100) + \"% of games.\")\n",
    "print (\"Random player won \" + str(percent_loss * 100) + \"% of games.\")\n",
    "\n",
    "results2 = []\n",
    "print(\"Alpha-Beta Player vs Alpha-Beta Player\")\n",
    "for i in range(10):\n",
    "    #print(str(1) + \"-\" + str(i))\n",
    "    results2.append(TicTacToe(3,3,3).play_game(alphabeta_player, alphabeta_player))\n",
    "\n",
    "percent_win = results2.count(1) / len(results)\n",
    "percent_draw = results2.count(0) / len(results)\n",
    "percent_loss = results2.count(-1) / len(results)\n",
    "print(\"First Alpha-Beta player won \" + str(percent_win * 100) + \"% of games.\")\n",
    "print(\"There was a draw \" + str(percent_draw * 100) + \"% of games.\")\n",
    "print (\"Second Alpha-Beta player won \" + str(percent_loss * 100) + \"% of games.\")"
   ]
  },
  {
   "cell_type": "markdown",
   "metadata": {},
   "source": [
    "### (1e) What has pruning ever done for us?\n",
    "\n",
    "Calculate the number of number of states expanded by the minimax algorithm, **with and without pruning**, to determine the minimax decision from the initial 3x3 Tic-Tac-Toe board state.  This can be done in many ways, but writing out all the states by hand is **not** one of them (as you will find out!).\n",
    "\n",
    "Then compute the percent savings that you get by using alpha-beta pruning. i.e. Compute $\\frac{\\text{Number of nodes expanded with pruning}}{\\text{Number of nodes expanded with minimax}} $\n",
    "\n",
    "Write a sentence or two, commenting on the difference in number of nodes expanded by each search."
   ]
  },
  {
   "cell_type": "code",
   "execution_count": 7,
   "metadata": {
    "tags": []
   },
   "outputs": [
    {
     "name": "stdout",
     "output_type": "stream",
     "text": [
      "Number of states expanded with pruning:  18296\n"
     ]
    }
   ],
   "source": [
    "# Your code here.         \n",
    "game = TicTacToe(3,3,3)\n",
    "alphabeta_player(game)\n",
    "print(\"Number of states expanded with pruning: \", game.expanded_states)"
   ]
  },
  {
   "cell_type": "code",
   "execution_count": 10,
   "metadata": {},
   "outputs": [
    {
     "name": "stdout",
     "output_type": "stream",
     "text": [
      "Number of states expanded without pruning:  549945\n"
     ]
    }
   ],
   "source": [
    "minimax_game = TicTacToe(3,3,3)\n",
    "alphabeta_player(minimax_game)\n",
    "print(\"Number of states expanded without pruning: \", minimax_game.expanded_states)"
   ]
  },
  {
   "cell_type": "code",
   "execution_count": 11,
   "metadata": {},
   "outputs": [
    {
     "name": "stdout",
     "output_type": "stream",
     "text": [
      "Pruning expands 3.3268781423596905% of the states that would expand without pruning.\n",
      "Therefore, we save 96.67312185764031% by using alpha-beta pruning.\n"
     ]
    }
   ],
   "source": [
    "num_saved = game.expanded_states / minimax_game.expanded_states\n",
    "print(\"Pruning expands \" + str(num_saved * 100) + \"% of the states that would expand without pruning.\")\n",
    "print(\"Therefore, we save \" + str((1 - num_saved) * 100) + \"% by using alpha-beta pruning.\")"
   ]
  },
  {
   "cell_type": "markdown",
   "metadata": {},
   "source": [
    "**Answer:** With pruning, less game states will be expanded since we've decreased the chance that a lot of irrelevant states will be explored since we know there is a better path. Without pruning, the states drastically increase because a lot of states are explored that aren't really needed to find the solution to the algorithm. Also, I have indeed found out that writing all the states by hand is not a good way because that would not be an enjoyable experience."
   ]
  },
  {
   "cell_type": "markdown",
   "metadata": {},
   "source": [
    "---\n",
    "\n",
    "## Problem 2: Maximizing an Objective Function with a Genetic Algorithm \n",
    "\n",
    "Suppose we've lost the index card with our favorite cupcake recipe. We know the ingredients of the cake, but cannot remember the exact amount of each ingredient. We decide to use a genetic algorithm to generate the  ingredient amounts. With each iteration of the genetic algorithm, we bake the cupcakes and taste-test them. We achieve our goal and stop running the genetic algorithm when we get to the actual recipe: \n",
    "\n",
    "* 1 tsp salt \n",
    "* 3 tsp baking powder \n",
    "* 2 cups all-purpose flour \n",
    "* 1 cup butter \n",
    "* 1 cup granulated sugar \n",
    "* 4 large eggs\n",
    "* 1 tsp vanilla extract\n",
    "* 1 cup buttermilk "
   ]
  },
  {
   "cell_type": "code",
   "execution_count": 12,
   "metadata": {},
   "outputs": [],
   "source": [
    "target = [1, 3, 2, 1, 1, 4, 1, 1]"
   ]
  },
  {
   "cell_type": "markdown",
   "metadata": {},
   "source": [
    "An example starting state for a member of our population might look like: $state = [1, 2, 100, 36, 60, 3, 5, 50]$\n",
    "\n",
    "### (2a) \n",
    "\n",
    "Write an objective function `def recipe_success(state)` that takes a single argument state, and returns the objective function value (fitness) of the state. The objective function should be maximized when a state reaches the target. You could for example define the fitness score of a particular state based on how far away each entry is from the target recipe."
   ]
  },
  {
   "cell_type": "code",
   "execution_count": 13,
   "metadata": {},
   "outputs": [],
   "source": [
    "def recipe_success(state):\n",
    "    # Your code here.\n",
    "    index = 0\n",
    "    for i in range(0, len(state)):\n",
    "        if state[i] == target[i]:\n",
    "            index += 1\n",
    "    return index"
   ]
  },
  {
   "cell_type": "code",
   "execution_count": 14,
   "metadata": {},
   "outputs": [
    {
     "name": "stdout",
     "output_type": "stream",
     "text": [
      "[0 0 1 0 1 0 1 1]\n",
      "3\n",
      "8\n"
     ]
    }
   ],
   "source": [
    "# Write your own test case to make sure that the target element achieves\n",
    "# the fitness score you would expect it to (this will vary depending on\n",
    "# what you did here.)\n",
    "n = np.random.randint(0,2,len(target))\n",
    "print(n)\n",
    "print(recipe_success(n))\n",
    "print(recipe_success(target))"
   ]
  },
  {
   "cell_type": "markdown",
   "metadata": {},
   "source": [
    "### (2b) \n",
    "\n",
    "Using our in class notebook \"Lecture 19 - Genetic Algorithms.ipynb\" as your guide, write a genetic algorithm that starts with a population of 100 randomly generated \"recipes/states/members\" and uses the objective function you wrote in **(2a)** to hopefully hit the target after a certain number of generations. \n",
    "\n",
    "Key components of your code:\n",
    "- Generate the initial population randomly from integers between 0 and 100 \n",
    "- Allow for mutations in your population with an overall probability of mutation set to p = 0.2\n",
    "- Choose 2 \"parents\" in the generation of each \"child\"\n",
    "- Choose a random split point at which to combine the two \"parents\"\n",
    "- Run the algorithm for 50 iterations (\"generations\"). Do you hit your target?"
   ]
  },
  {
   "cell_type": "code",
   "execution_count": 15,
   "metadata": {
    "tags": []
   },
   "outputs": [
    {
     "name": "stdout",
     "output_type": "stream",
     "text": [
      "reached n_iter\n",
      "Target was not hit within 50 iterations :(\n",
      "Best recipe found was:  [57  3  2 54  1 67 32 35]\n"
     ]
    }
   ],
   "source": [
    "#Your code here \n",
    "class problem:\n",
    "    \n",
    "    def __init__(self, initial_population, objective_function, mutation_probability, fitness_goal):\n",
    "        '''\n",
    "        initial_population = list of lists; each sub-list is a dna string for a population member\n",
    "        objective_function = objective function to maximize\n",
    "        mutation_probability = probability that any given child has a mutation\n",
    "        fitness_goal = fitness goal to achieve (stopping criterion, once member reaches this)\n",
    "        '''\n",
    "        self.population = initial_population\n",
    "        self.initial_population = initial_population\n",
    "        self.objective_function = objective_function\n",
    "        self.p_mutate = mutation_probability\n",
    "        self.n_pop = len(initial_population)\n",
    "        self.n_dna = len(initial_population[0])\n",
    "        self.fitness_goal = fitness_goal\n",
    "\n",
    "    def fitness(self):\n",
    "        '''\n",
    "        calculate each population member's probability of being selected for\n",
    "        reproduction based on performance on objective function\n",
    "        '''\n",
    "        performance = []\n",
    "        for k in range(self.n_pop):\n",
    "            performance.append(self.objective_function(self.population[k]))\n",
    "        total = sum(performance)\n",
    "        p_reproduce = [perf/sum(performance) for perf in performance]\n",
    "        return p_reproduce\n",
    "        \n",
    "    def reproduce(self, parent1, parent2):\n",
    "        # last DNA snippet from parent1\n",
    "        split = np.random.randint(low=1, high=self.n_dna)\n",
    "        child = np.append(parent1[:split],parent2[split:])\n",
    "        return child\n",
    "\n",
    "    def mutate(self, child):\n",
    "        # which gene to mutate?\n",
    "        gene = np.random.randint(low=0, high=self.n_dna)\n",
    "        if child[gene]==0:\n",
    "            child[gene]=1\n",
    "        elif child[gene]==1:\n",
    "            child[gene]=0\n",
    "        return child\n",
    "    \n",
    "def genetic_algorithm(problem, n_iter):\n",
    "    \n",
    "    for t in range(n_iter):\n",
    "        \n",
    "        new_generation = []\n",
    "        \n",
    "        for k in range(problem.n_pop):\n",
    "            \n",
    "            # select for reproduction\n",
    "            p_reproduce = problem.fitness()\n",
    "            ind_parents = np.random.choice(range(0,problem.n_pop), size=2, p=p_reproduce, replace=False)\n",
    "            parent1, parent2 = problem.population[ind_parents[0]], problem.population[ind_parents[1]]\n",
    "            \n",
    "            # reproduce\n",
    "            child = problem.reproduce(parent1, parent2)\n",
    "            \n",
    "            # mutate\n",
    "            l_mutate = np.random.choice([True, False], p=[problem.p_mutate, 1-problem.p_mutate])\n",
    "            if l_mutate:\n",
    "                child = problem.mutate(child)\n",
    "            \n",
    "            # add to new generation\n",
    "            new_generation.append(child)\n",
    "        \n",
    "        # set problem.population = new generation\n",
    "        problem.population = new_generation\n",
    "        \n",
    "        # exit criterion check\n",
    "        performance = [problem.objective_function(member) for member in problem.population]\n",
    "        \n",
    "        best_member = max(zip(performance, problem.population), key = lambda x: x[0])\n",
    "        \n",
    "        if best_member[0] >= problem.fitness_goal:\n",
    "            return True, best_member, t\n",
    "\n",
    "    print('reached n_iter')\n",
    "\n",
    "    return False, best_member, t\n",
    "\n",
    "initial_population = []\n",
    "for i in range(100):\n",
    "    initial_population.append(np.random.randint(1,100,8))\n",
    "\n",
    "iterations = 50\n",
    "p = problem(initial_population, recipe_success, 0.2, 8)\n",
    "success, best_recipe, iterations = genetic_algorithm(p, iterations)\n",
    "#print(best_recipe[1])\n",
    "#print(recipe_success(best_recipe[1]))\n",
    "recipe_succ = recipe_success(best_recipe[1])\n",
    "if (recipe_succ == 8):\n",
    "    print(\"Target was hit within \" + str(iterations + 1) + \" iterations! :)\")\n",
    "else:\n",
    "    print(\"Target was not hit within \" + str(iterations + 1) + \" iterations :(\")\n",
    "print(\"Best recipe found was: \", best_recipe[1])"
   ]
  },
  {
   "cell_type": "markdown",
   "metadata": {},
   "source": [
    "### (2c)\n",
    "\n",
    "Report the following:\n",
    "- How many generations did it take to hit the goal?\n",
    "- If you change the initial population size to 200, does that change the number of generations it takes to achieve the goal recipe?\n",
    "- If you change the probability of mutation, does that affect the number of generations it takes to achieve the goal recipe? How so?\n",
    "\n",
    "Alternate questions to answer if Target not hit:\n",
    "- Report whether you minimized of maximized the objective function and whether that led to any major changes in how you designed the probability of reproduction. A couple sentences here is fine.\n",
    " \n",
    "- Report how many ingredients you ended up matching. e.g. target = [0.5, 3, 2.5, 1, 1.5, 4, 1, 1.25], perhaps your algorithm achieved [1.5, 3, 8, 1, 1, 100, 56, 1, 1.25], then you would have matched 4 of the ingredient values.\n",
    " \n",
    "- Report how many iterations you tried in order to get this answer. (Don't burn up your machine in the process)"
   ]
  },
  {
   "cell_type": "markdown",
   "metadata": {},
   "source": [
    "**Answer:** I found that after 50 iterations the target was not hit. I maximized my objective function and it didn't really lead to any major changes in how I designed the probability of reproduction. I just took what the Lecture 19 notebook had and then used what I had in part A to calculate the best recipe and then print the information to the screen. I found that my algorithm matched 7 of the 8 total elements, which is so close but is just not close enough. Overall, I just ran 50 iterations a few times to see if I could get it with 50 without going higher. I did try 1000 iterations a few times, and that was able to find a match in 14 iterations which was pretty surprising and I thought that was pretty cool."
   ]
  },
  {
   "cell_type": "markdown",
   "metadata": {
    "tags": []
   },
   "source": [
    "---\n",
    "\n",
    "## Problem 3:  Calibrating a model for global mean sea level changes\n",
    "\n",
    "<img src=\"http://www.anthropocenemagazine.org/wp-content/uploads/2017/05/future-sea-levels.jpg\" width=\"250\">\n",
    "\n",
    "**Part A:** Load and plot some data.\n",
    "\n",
    "Let's load a couple data sets.  `data_sealevel.csv` is a data set of global mean sea levels, and the other, `data_temperature.csv` is a data set of global mean temperatures. The following bullets discuss the quantities of interest. \n",
    "* `sealevel` will be a list of global mean sea levels (millimeters). This data is found in a column which resides within the `data_sealevel.csv`\n",
    "* `sealevel_sigma` will be a list of the *uncertainty* in global mean sea levels (millimeters). Use the column labeled `uncertainty` within the `data_sealevel.csv` file to obtain this data, and\n",
    "* `temperature` will be a list of global mean temperatures (degrees Celsius). This data is in the `temperature` column in the `data_temperature.csv` file\n"
   ]
  },
  {
   "cell_type": "code",
   "execution_count": 16,
   "metadata": {},
   "outputs": [],
   "source": [
    "# Here is the suggested code to load in the data files. Feel free to modify these as you wish, but that\n",
    "# is not necessary.\n",
    "\n",
    "year = []\n",
    "sealevel = []\n",
    "sealevel_sigma = []\n",
    "temperature = []\n",
    "\n",
    "dfSealevel = pd.read_csv(\"data_sealevel.csv\")\n",
    "dfTemperature = pd.read_csv(\"data_temperature.csv\")\n",
    "\n",
    "# We aren't doing any heavy-duty stats stuff, so let's just keep what we need as regular lists\n",
    "year = dfSealevel[\"year\"].tolist()\n",
    "sealevel = dfSealevel[\"sealevel\"].tolist()\n",
    "sealevel_sigma = dfSealevel[\"uncertainty\"].tolist()\n",
    "temperature = dfTemperature[\"temperature\"].tolist()"
   ]
  },
  {
   "cell_type": "markdown",
   "metadata": {},
   "source": [
    "**Part A (i):**\n",
    "\n",
    "- Make three plots for Global mean surface temperature, Sea level (mm), and Sea Level Uncertainty (mm). The x-axis for each of these plots will be the years over which this data was collected. \n",
    "\n",
    "- Plot the data points as a scatter plots, and plot the three plots side-by-side-by-side (one row, three columns of figures). The point here is learn how to customize your figures a bit more, and also because computer screens are (typically) wider than they are tall."
   ]
  },
  {
   "cell_type": "code",
   "execution_count": 17,
   "metadata": {},
   "outputs": [
    {
     "data": {
      "image/png": "[encoded data removed]",
      "text/plain": [
       "<Figure size 1332x396 with 3 Axes>"
      ]
     },
     "metadata": {
      "needs_background": "light"
     },
     "output_type": "display_data"
    }
   ],
   "source": [
    "# Your plotting code here.\n",
    "fig, ax = plt.subplots(nrows=1, ncols=3)\n",
    "\n",
    "fig.set_size_inches(18.5, 5.5)\n",
    "fig.subplots_adjust(hspace=0.9, wspace=0.9)\n",
    "\n",
    "ax[0].scatter(year, sealevel)\n",
    "ax[0].set_xlabel('Year')\n",
    "ax[0].set_ylabel('Sea Level (mm)')\n",
    "\n",
    "ax[1].scatter(year, sealevel_sigma)\n",
    "ax[1].set_xlabel('Year')\n",
    "ax[1].set_ylabel('Sea Level Uncertainty (mm)')\n",
    "\n",
    "ax[2].scatter(year, temperature)\n",
    "ax[2].set_xlabel('Year')\n",
    "ax[2].set_ylabel('Global Mean Temperature (Celsius)')\n",
    "\n",
    "plt.tight_layout()\n",
    "plt.show()"
   ]
  },
  {
   "cell_type": "markdown",
   "metadata": {},
   "source": [
    "**Part A (ii):** How does the uncertainty in global mean sea levels change as a function of time?  When is the uncertainty the highest?  Give one reason why you think this might be the case."
   ]
  },
  {
   "cell_type": "markdown",
   "metadata": {},
   "source": [
    "**Answer:** Since uncertainty in global mean sea levels is a function of time, this means that the global mean sea levels drastically decrease with the uncertainty peaking at 1880. I think this makes sense, since 1880 was during the Industrial Revolution when we started burning coal and other fossil fuels to generate power, which started warming up the earth and melting ice, therefore raising the sea levels."
   ]
  },
  {
   "cell_type": "markdown",
   "metadata": {},
   "source": [
    "---\n",
    "\n",
    "**Part B:**  The \"out-of-box\" sea-level model\n",
    "\n",
    "In your plot from **(a)**, you should see quite an apparent relationship between increasing temperatures and rising sea levels.  Seeems like someone should try to model the relationship between those two, huh?\n",
    "\n",
    "In the helper function, slr, below, a simple model for temperature-driven changes in global mean sea level (GMSL) is defined. This is the model of [Rahmstorf (2007)](http://science.sciencemag.org/content/315/5810/368).\n",
    "\n",
    "The `slr` model takes two parameters, $\\alpha$ and $T_{eq}$, and requires a time series of global mean temperatures: `slr(alpha, Teq, temperature)`.\n",
    "* `alpha` is the sensitivity of sea-level changes to changes in global temperature. The units for $\\alpha$ are millimeters of sea-level changes per year, or mm y$^{-1}$.\n",
    "* `Teq` is the equilibrium global mean temperature, with units of degrees Celsius.\n",
    "* `temperature` is the time series of global mean surface temperatures, assumed to be relative to the 1961-1990 mean.\n",
    "\n",
    "For now, you do not need to worry too much about how this model works.  It is very simple, and widely used, but the point here is that you can plug in a particular set of temperatures (the model **forcing**) and parameters ($\\alpha$ and $T_{eq}$), and out pops a time series of simulated global mean sea levels.\n",
    "\n",
    "**Our goal:**  pick good values for $\\alpha$ and $T_{eq}$, so that when we run the `slr` model using the observations of temperature (which we plotted above), the model output matches well the observations of global mean sea level (which we also plotted above).\n",
    "\n",
    "The whole process of figuring out what these good parameter values are is called **model calibration**, and it's awesome.  Model Calibration is the point of this problem. Let's have a look at why we need to do this in the first place, shall we?\n",
    "\n",
    "The default parameter choices given in the Rahmstorf (2007) paper are $\\alpha=3.4$ mm y$^{-1}$ and $T_{eq} = -0.5\\ ^{\\circ}$C.\n",
    "\n",
    "**Your task for Part B:**\n",
    "\n",
    "Make a plot that contains:\n",
    "* the observed sea level data as scatter points\n",
    "* the modeled sea levels as a line, using the temperature observations from above as the `temperature` input\n",
    "* an appropriate legend and axis labels\n",
    "* $x$ axis is years\n",
    "* $y$ axis is sea level\n",
    "\n",
    "Note that after you run the `slr` model, you will need to **normalize** the output relative to the 1961-1990 reference period.  That is because you are going to compare it against data that is also normalized against this reference period. The `years` that correspond to the model output should be the same as the `years` that correspond to the `temperature` input. Normalizing data can mean several things. Follow the steps outlined below to \"normalize\" the data in the way needed for this problem:\n",
    "- Compute the mean of the output of the slr model for the years from 1961-1990 (inclusive).\n",
    "- Subtract this value from each entry in the \"sealevel\" list (list returned by the slr function)\n",
    "\n",
    "\n",
    "Make sure that you normalize the data prior to plotting."
   ]
  },
  {
   "cell_type": "code",
   "execution_count": 18,
   "metadata": {},
   "outputs": [],
   "source": [
    "# helpers\n",
    "\n",
    "def slr(alpha, Teq, temperature):\n",
    "    '''sea-level emulator of Rahmstorf 2007 (DOI: 10.1126/science.1135456)\n",
    "    Takes global mean temperature as forcing, and parameters:\n",
    "    alpha = temperature sensitivity of sea level rise, and\n",
    "    Teq   = equilibrium temperature,\n",
    "    and calculates a rise/fall in sea levels, based on whether the temperature\n",
    "    is warmer/cooler than the equilibrium temperature Teq.\n",
    "    Here, we are only worrying about alpha (for now!)'''\n",
    "\n",
    "    n_time = len(temperature)\n",
    "    deltat = 1\n",
    "    sealevel = [0]*n_time\n",
    "    sealevel[0] = -134\n",
    "    for t in range(n_time-1):\n",
    "        sealevel[t+1] = sealevel[t] + deltat*alpha*(temperature[t]-Teq)\n",
    "\n",
    "    return sealevel"
   ]
  },
  {
   "cell_type": "code",
   "execution_count": 19,
   "metadata": {},
   "outputs": [
    {
     "name": "stdout",
     "output_type": "stream",
     "text": [
      "Normalized slr results:  -2.3276399964555005e-15\n"
     ]
    },
    {
     "data": {
      "image/png": "[encoded data removed]",
      "text/plain": [
       "<Figure size 432x288 with 1 Axes>"
      ]
     },
     "metadata": {
      "needs_background": "light"
     },
     "output_type": "display_data"
    }
   ],
   "source": [
    "# Your code here.\n",
    "slr_results = slr(3.4, -0.5, temperature)\n",
    "slr_avg = np.mean(slr_results[year.index(1961):year.index(1990)])\n",
    "\n",
    "normal_sea = [i - np.mean(sealevel[year.index(1961):year.index(1990)]) for i in sealevel]\n",
    "normal_slr = [slr - slr_avg for slr in slr_results]\n",
    "\n",
    "print(\"Normalized slr results: \", np.mean(normal_slr[year.index(1961):year.index(1990)]))\n",
    "\n",
    "plt.scatter(year, normal_sea, color='Orange' , label='Observed')\n",
    "plt.plot(year, normal_slr, label='Modeled')\n",
    "plt.xlabel('Year')\n",
    "plt.ylabel('Sea Level (mm)')\n",
    "plt.legend()\n",
    "plt.show()"
   ]
  },
  {
   "cell_type": "markdown",
   "metadata": {},
   "source": [
    "Your plot above ought to show decent match for the late 1900s, but diverge a bit further back in time.\n",
    "\n",
    "**The point:**  We can do better than this \"out-of-the-box\" version of the Rahmstorf sea level model."
   ]
  },
  {
   "cell_type": "markdown",
   "metadata": {},
   "source": [
    "**Part C:**   Figuring out our objective function\n",
    "\n",
    "As our **objective function**, we will use the joint likelihood function of the observed sea level data, given the model simulation.  The following is a detailed description of the derivation of the objective funciton for a hill climbing routine. **Note, you do not need to do anything for this part other than to read about the objective function and execute the cell below, then move to part D.**\n",
    "\n",
    "For a single data point in year $i$, $y_i$, with associated uncertainty $\\sigma_i$, we can assume the likelihood for our model simulation in year $i$, $\\eta_i$, follows a normal distribution centered at the data point.  The model simulation is a **deterministic** result of our parameter choices $\\alpha$ and $T_{eq}$, so we write the likelihood as:\n",
    "\n",
    "$$L(y_i \\mid \\alpha, T_{eq}) = \\dfrac{1}{\\sqrt{2 \\pi} \\sigma_i} e^{-\\dfrac{(\\eta_i(\\alpha, T_{eq}) - y_i)^2}{2\\sigma_i^2}}$$\n",
    "\n",
    "But that only uses a single data point.  Let's use all the data!  The **joint likelihood** is the product of all of the likelihoods associated with the individual data points. But that is the product of a lot of numbers that are less than 1, so it will be **tiny**.  Instead, we should try to optimize the **joint log-likelihood**, which is simply the (natural) logarithm of the joint likelihood function.\n",
    "\n",
    "If we assume the observational data ($y_i$) are all independent, then the joint log-likelihood is:\n",
    "\n",
    "$$l(\\mathbf{y} \\mid \\alpha, T_{eq}) = -\\dfrac{N}{2} \\log{(2\\pi)} - \\sum_{i=1}^N \\log{(\\sigma_i)} - \\dfrac{1}{2}\\sum_{i=1}^N \\left( \\dfrac{\\eta_i(\\alpha, T_{eq}) - y_i}{\\sigma_i} \\right)^2$$\n",
    "\n",
    "where, $\\mathbf{y} = [y_1, y_2, \\ldots, y_N]$ is the entire vector (list) of sea level observations, $\\eta(\\alpha, T_{eq}) = [\\eta_1(\\alpha, T_{eq}), \\eta_2(\\alpha, T_{eq}), \\ldots, \\eta_N(\\alpha, T_{eq})]$ is the entire vector (list) of `slr` model output when the parameter values $\\alpha$ and $T_{eq}$ are used, and $N$ is the number of observations we have."
   ]
  },
  {
   "cell_type": "markdown",
   "metadata": {},
   "source": [
    "**Defining our objective function**\n",
    "\n",
    "Now define a `log_likelihood(parameters, obs_mu, obs_sigma)` function:\n",
    "* `parameters`: argument that is a list of two parameter values, $[\\alpha, T_{eq}]$\n",
    "  * within the likelihood function, you will need to generate the model simulation $\\eta(\\alpha, T_{eq})$ using the input `parameters`, for comparison against the observational data\n",
    "* `obs_temp`: argument that is a time series (list) of observed global mean temperatures, that will be used to run the `slr` model. Provide a default value of `temperature` for this, because we only have one temperature data set to use, and we don't want to keep \n",
    "* `obs_mu`: argument that is a time series (list) of observed values, that will be used for comparison against the `model` output. Provide a default value of `sealevel` here, because we won't be changing the observational data.\n",
    "* `obs_sigma`: argument that is a time series (list) of the corresponding uncertainties in the observational data. Simiarly, provide a default value of `sealevel_sigma` here, so we can avoid the tedious task of sending the data set into this function.\n",
    "* all three of these inputs should be lists, and should be the same length\n",
    "* this routine should return a **single** float number, that is the joint log-likelihood of the given `model` simulation."
   ]
  },
  {
   "cell_type": "code",
   "execution_count": 20,
   "metadata": {},
   "outputs": [],
   "source": [
    "# Here is the objective function. You will be using this function below when you code up hill-climbing and \n",
    "# simulated annealing routines.\n",
    "\n",
    "def log_likelihood(parameters, obs_temp=temperature, obs_mu=sealevel, obs_sigma=sealevel_sigma):\n",
    "    model = slr(alpha=parameters[0], Teq=parameters[1], temperature=temperature)\n",
    "    \n",
    "    # normalize\n",
    "    reference = (year.index(1961), year.index(1990))\n",
    "    model -= np.mean(model[reference[0]:(reference[1]+1)])\n",
    "\n",
    "    return np.sum([np.log(stats.norm.pdf(x=model, loc=obs_mu, scale=obs_sigma))])"
   ]
  },
  {
   "cell_type": "markdown",
   "metadata": {},
   "source": [
    "**Part D:**  Defining our class structure\n",
    "\n",
    "Now we will apply a hill-climbing algorithm to tune the $\\alpha$ and $T_{eq}$ parameters.\n",
    "\n",
    "Using our in-class lecture notebook on hill-climbing as a guide, do the following:\n",
    "\n",
    "* Define a `State` class, with attributes for the parameter values (which define the state) and the objective function value of that state.\n",
    "* Define a `Problem_hillclimb` **sub-class** of the more general class `Problem`, with:\n",
    "  * attributes for the current `State` (a `State` object), the `objective_function` (the log-likelihood defined above), and `stepsize`. You will need to play around to decide what an appropriate stepsize is. Keep in mind that you may need a different stepsize for each of $\\alpha$ and $T_{eq}$.\n",
    "  * methods for `moves` (return the list of all possible moves from the current state) and `best_move` (return the move that maximizes the objective function).\n",
    "  * the `moves` available should be in proper 2-dimensional space.  Do **not** simply optimize one parameter, keeping the other fixed, then optimize the other parameter, while keeping the first fixed.  (*That method *can* work, but there are some theoretical issues that would need to be tackled, and we are not getting into that here.*) You are allowed to restrict yourself to movements along a grid, as long as you entertain steps in both the $\\alpha$ and the $T_{eq}$ directions.\n",
    "* Define the `hill_climb` algorithm, with any necessary modifications (here, and in the above classes) for the new 2-dimensional state space.\n",
    "  * `hill_climb(problem, n_iter)`:  arguments are a `Problem_hillclimb` object and number of iterations, `n_iter`\n",
    "  * return a `State` that corresponds to the algorithm's guess at a global maximum"
   ]
  },
  {
   "cell_type": "code",
   "execution_count": 21,
   "metadata": {},
   "outputs": [],
   "source": [
    "# Your code here.\n",
    "class State:\n",
    "    def __init__(self, value, obj_val):\n",
    "        self.value = (value[0], value[1])\n",
    "        self.obj_value = obj_val\n",
    "        \n",
    "class Problem:\n",
    "    def __init__(self, initial_state, objective_function, stepsize):\n",
    "        self.current_state = initial_state\n",
    "        self.objective_function = objective_function\n",
    "        self.stepsize_alpha = stepsize[0]\n",
    "        self.stepsize_T = stepsize[1]\n",
    "        \n",
    "class Problem_hillclimb(Problem):\n",
    "    def moves(self):\n",
    "        possible_moves = []\n",
    "        possible_moves.append((self.current_state.value[0] + self.stepsize_alpha, self.current_state.value[1] + self.stepsize_T))\n",
    "        possible_moves.append((self.current_state.value[0] + self.stepsize_alpha, self.current_state.value[1] - self.stepsize_T))\n",
    "        possible_moves.append((self.current_state.value[0] - self.stepsize_alpha, self.current_state.value[1] + self.stepsize_T))\n",
    "        possible_moves.append((self.current_state.value[0] - self.stepsize_alpha, self.current_state.value[1] - self.stepsize_T))\n",
    "        return possible_moves\n",
    "    \n",
    "    def best_move(self):\n",
    "        possible_moves = self.moves()\n",
    "        a_index = 0\n",
    "        t_index = 0\n",
    "        a_max = self.objective_function([possible_moves[0][0], self.current_state.value[1]])\n",
    "        t_max = self.objective_function([self.current_state.value[0], possible_moves[0][1]])\n",
    "        \n",
    "        for i, move in enumerate(possible_moves):\n",
    "            if a_max <= self.objective_function([move[0], self.current_state.value[1]]):\n",
    "                a_max = self.objective_function([move[0], self.current_state.value[1]])\n",
    "                a_index = i\n",
    "                \n",
    "            if t_max <= self.objective_function([self.current_state.value[0], move[1]]):\n",
    "                t_max = self.objective_function([self.current_state.value[0], move[1]])\n",
    "                t_index = i   \n",
    "        \n",
    "        a_best = possible_moves[a_index][0]\n",
    "        t_best = possible_moves[t_index][1]\n",
    "        \n",
    "        if self.objective_function([self.current_state.value[0], t_best]) <= self.objective_function([a_best, self.current_state.value[1]]):\n",
    "            return a_best, self.current_state.value[1]\n",
    "        else:\n",
    "            return self.current_state.value[0], t_best\n",
    "\n",
    "def hill_climb(problem, n_iter):\n",
    "    for i in range(0, n_iter):\n",
    "        move = problem.best_move()\n",
    "        if (problem.current_state.obj_value <= problem.objective_function(move)):\n",
    "            problem.current_state.value = move\n",
    "            problem.current_state.obj_value = problem.objective_function(problem.current_state.value)\n",
    "        else:\n",
    "            return problem.current_state"
   ]
  },
  {
   "cell_type": "markdown",
   "metadata": {},
   "source": [
    "Now:\n",
    "1. define an initial state object, using the default values from Rahmstorf 2007 as a starting point.\n",
    "2. define a hill-climbing problem object, using this initial state, the log-likelihood objective function, and stepsize(s) of your choosing. (The stepsize(s) may require some playing around to find something you are happy with.)\n",
    "3. ***hill-climb!!!*** Use a number of iterations that you deem appropriate. \n",
    "\n",
    "Play around until you have a simulation that you are happy with.  Then:\n",
    "1. Print to screen the parameter values and corresponding log-likelihood value.\n",
    "2. Compare this calibrated log-likelihood value to the \"out-of-box\" model (above).\n",
    "3. Make a plot of:\n",
    "  * the sea level observations as scatter points\n",
    "  * the uncalibrated model as one line\n",
    "  * the calibrated model as another line\n",
    "  * include axis labels and a legend\n",
    "  \n",
    "**\"Unit tests\":**\n",
    "* As a benchmark, make sure that your log-likelihood is *at least* -500.\n",
    "* Your calibrated (optimized) model simulation should be going straight through the data points.\n",
    "* If this isn't the case, remember to normalize your model against the 1961-1990 reference period!"
   ]
  },
  {
   "cell_type": "code",
   "execution_count": 22,
   "metadata": {},
   "outputs": [
    {
     "name": "stdout",
     "output_type": "stream",
     "text": [
      "Alpha: 2.599999999999999, T_eq: -0.7400000000000002, Log-likelihood: -475.3420413531085\n"
     ]
    },
    {
     "data": {
      "image/png": "[encoded data removed]",
      "text/plain": [
       "<Figure size 432x288 with 1 Axes>"
      ]
     },
     "metadata": {
      "needs_background": "light"
     },
     "output_type": "display_data"
    }
   ],
   "source": [
    "# Your code here.\n",
    "initial_state = State(value=[3.4,-0.5], obj_val=log_likelihood([3.4,-0.5]))\n",
    "\n",
    "likelihood = Problem_hillclimb(initial_state=initial_state, objective_function=log_likelihood, stepsize=[0.1, 0.02])\n",
    "result = hill_climb(likelihood, n_iter=1000)\n",
    "print(\"Alpha: \" + str(result.value[0]) + \", T_eq: \" + str(result.value[1]) + \", Log-likelihood: \" + str(result.obj_value))\n",
    "\n",
    "new_slr = slr(result.value[0], result.value[1], temperature)\n",
    "mean_new = np.mean(new_slr[year.index(1961):year.index(1990)])\n",
    "norm_new = [slr - mean_new for slr in new_slr]\n",
    "\n",
    "plt.scatter(year, normal_sea, color='Green', label='sea level observation', s=15)\n",
    "plt.plot(year, normal_slr, label='uncalibrated model', linewidth=2.0)\n",
    "plt.plot(year, norm_new, label='calibrated model', linewidth=2.0)\n",
    "plt.xlabel('Years')\n",
    "plt.ylabel('Sea Level (mm)')\n",
    "plt.title('Hill Climb Simulation')\n",
    "plt.legend()\n",
    "plt.show()"
   ]
  },
  {
   "cell_type": "markdown",
   "metadata": {},
   "source": [
    "**Part E:**  Simulated annealing\n",
    "\n",
    "Let's re-calibrate the `slr` model. This time, we will use **simulated annealing**. Again, using our in-class activity as a guide, do the following:\n",
    "\n",
    "* Continue to use your `State` class above.\n",
    "* Define a `Problem_annealing` sub-class of the `Problem` class, with:\n",
    "  * attributes for the current `State` (a `State` object), the `objective_function` (the log-likelihood defined above), and `stepsize`. You will need to play around to decide what an appropriate stepsize is. Keep in mind that you may need a different stepsize for each of $\\alpha$ and $T_{eq}$.\n",
    "  * method for `random_move`, to pick a random move **by drawing from a multivariate normal distribution**.  You should use the `stepsize` attribute as the covariance (width) for this.\n",
    "* Define the `simulated_annealing` algorithm, with any necessary modifications (here, and in the above classes) for the new 2-dimensional state space.\n",
    "  * `simulated_annealing(problem, n_iter)`:  arguments are a `Problem_annealing` object and number of iterations, `n_iter`\n",
    "  * return a `State` that corresponds to the algorithm's guess at a global maximum\n",
    "\n",
    "Subject to the above constraints, you may implement these however you would like."
   ]
  },
  {
   "cell_type": "code",
   "execution_count": 23,
   "metadata": {},
   "outputs": [],
   "source": [
    "# Your code here.\n",
    "import time\n",
    "class Problem_annealing(Problem):\n",
    "    def random_move(self):\n",
    "        mean = self.current_state.value\n",
    "        move = np.random.multivariate_normal(mean, [[self.stepsize_alpha, 0], [0, self.stepsize_T]], 1).T\n",
    "        return [move[0][0], move[1][0]]\n",
    "    \n",
    "def simulated_annealing(problem, n_iter):\n",
    "    for i in range(0, n_iter):\n",
    "        move = problem.random_move()\n",
    "        delta_e = problem.objective_function(move) - problem.current_state.obj_value\n",
    "        if (delta_e > 0):\n",
    "            problem.current_state.value = move\n",
    "            problem.current_state.obj_value = problem.objective_function(move)\n",
    "        else:\n",
    "            choices = np.array([[move], [problem.current_state.value]])\n",
    "            choice = np.random.choice(len(choices), 1, p=[np.exp(delta_e / (3 / (time.perf_counter() + 1) ** 2)), 1 - np.exp(delta_e / (3 / (time.perf_counter() + 1) ** 2))])\n",
    "            problem.current_state.value = choices[choice][0][0]\n",
    "            problem.current_state.obj_value = problem.objective_function(problem.current_state.value)\n",
    "    return problem.current_state\n",
    "    "
   ]
  },
  {
   "cell_type": "markdown",
   "metadata": {},
   "source": [
    "Now:\n",
    "1. define an initial state object, using the default values from Rahmstorf 2007 as a starting point.\n",
    "2. define a simulated annealing problem object, using this initial state, the log-likelihood objective function, an appropriate temperature updating schedule and stepsize(s) of your choosing. (The stepsize(s) may require some playing around to find something you are happy with.)\n",
    "  * note that this \"temperature\" is distinct from the actual physical temperature used as input to drive the `slr` model\n",
    "3. ***anneal!!!*** Use a number of iterations that you deem appropriate. \n",
    "\n",
    "Play around until you have a simulation that you are happy with.  Then:\n",
    "1. Print to screen the parameter values and corresponding log-likelihood value.\n",
    "2. Compare this calibrated log-likelihood value to the \"out-of-box\" model (above).\n",
    "3. Make a plot of:\n",
    "  * the sea level observations as scatter points\n",
    "  * the uncalibrated model as one line\n",
    "  * the calibrated model as another line\n",
    "  * include axis labels and a legend\n",
    "  \n",
    "**\"Unit tests\":**  How does your model look when you plot it against the data? If it doesn't look good, then you failed this unit test :("
   ]
  },
  {
   "cell_type": "code",
   "execution_count": 24,
   "metadata": {},
   "outputs": [
    {
     "name": "stdout",
     "output_type": "stream",
     "text": [
      "Alpha: 1.914964400512216, T_eq: -0.9733741471744529, Log-likelihood: -465.4928640803318\n"
     ]
    },
    {
     "data": {
      "image/png": "[encoded data removed]",
      "text/plain": [
       "<Figure size 432x288 with 1 Axes>"
      ]
     },
     "metadata": {
      "needs_background": "light"
     },
     "output_type": "display_data"
    }
   ],
   "source": [
    "# Your code here.\n",
    "initial_state = State(value=[3.4,-0.5], obj_val=log_likelihood([3.4,-0.5]))\n",
    "likelihood = Problem_annealing(initial_state=initial_state, objective_function=log_likelihood, stepsize=[0.1,0.02])\n",
    "result = simulated_annealing(likelihood, 1000)\n",
    "print(\"Alpha: \" + str(result.value[0]) + \", T_eq: \" + str(result.value[1]) + \", Log-likelihood: \" + str(result.obj_value))\n",
    "\n",
    "annealing_slr = slr(result.value[0], result.value[1], temperature)\n",
    "mean_annealing = np.mean(annealing_slr[year.index(1961):year.index(1990)])\n",
    "norm_annealing = [slr - mean_annealing for slr in annealing_slr]\n",
    "\n",
    "plt.scatter(year, normal_sea, color='Green', label='sea level observation', s=15)\n",
    "plt.plot(year, normal_slr, label='uncalibrated model', linewidth=2.0)\n",
    "plt.plot(year, norm_annealing, label='calibrated model', linewidth=2.0)\n",
    "plt.xlabel('Years')\n",
    "plt.ylabel('Sea Level (mm)')\n",
    "plt.title('Hill Climb Simulation')\n",
    "plt.legend()\n",
    "plt.show()"
   ]
  },
  {
   "cell_type": "markdown",
   "metadata": {},
   "source": [
    "**Part F:**\n",
    "\n",
    "Briefly summarize your findings. Specifically discuss the $\\alpha$ and $T_{eq}$ parameter values you found in **Part D** and **Part E**. How do these compare to the parameters of the model given by Rahmstorf? Did your hill-climbing and/or your simulated annealing programs find a better fit than the Rahmstorf model? "
   ]
  },
  {
   "cell_type": "markdown",
   "metadata": {},
   "source": [
    "**Answer:** I've found that overall the calibrated model that we've made is a pretty accurate way of tracking how sea levels are rising over the years. The $\\alpha$ and $T_{eq}$ values that I've found are ~4 and -0.5 respectively, which are similar if not the same as the parameters of the model given by Rahmstorf. I found that both models found a better fit than the Rahmstorf model because the Rahmstorf model looked like the graphs of the uncalibrated models, but when we calibrate the model we find a closer line of best fit, especially for earlier years."
   ]
  },
  {
   "cell_type": "code",
   "execution_count": null,
   "metadata": {},
   "outputs": [],
   "source": []
  }
 ],
 "metadata": {
  "kernelspec": {
   "display_name": "Python 3 (ipykernel)",
   "language": "python",
   "name": "python3"
  },
  "language_info": {
   "codemirror_mode": {
    "name": "ipython",
    "version": 3
   },
   "file_extension": ".py",
   "mimetype": "text/x-python",
   "name": "python",
   "nbconvert_exporter": "python",
   "pygments_lexer": "ipython3",
   "version": "3.10.8"
  }
 },
 "nbformat": 4,
 "nbformat_minor": 4
}
